{
 "cells": [
  {
   "cell_type": "code",
   "execution_count": 1,
   "metadata": {},
   "outputs": [],
   "source": [
    "import gym\n",
    "import math\n",
    "import random\n",
    "import numpy as np\n",
    "import matplotlib\n",
    "import matplotlib.pyplot as plt\n",
    "from collections import namedtuple, deque\n",
    "from itertools import count\n",
    "from PIL import Image\n",
    "\n",
    "import torch\n",
    "import torch.nn as nn\n",
    "import torch.optim as optim\n",
    "import torch.nn.functional as F\n",
    "import torchvision.transforms as T\n",
    "\n",
    "import utils\n",
    "\n",
    "import gc"
   ]
  },
  {
   "cell_type": "code",
   "execution_count": 2,
   "metadata": {},
   "outputs": [
    {
     "name": "stdout",
     "output_type": "stream",
     "text": [
      "cuda\n"
     ]
    }
   ],
   "source": [
    "# set up matplotlib\n",
    "is_ipython = 'inline' in matplotlib.get_backend()\n",
    "if is_ipython:\n",
    "    from IPython import display\n",
    "\n",
    "plt.ion()\n",
    "\n",
    "# if gpu is to be used\n",
    "device = torch.device(\"cuda\" if torch.cuda.is_available() else \"cpu\")\n",
    "print(device)"
   ]
  },
  {
   "cell_type": "code",
   "execution_count": 3,
   "metadata": {},
   "outputs": [],
   "source": [
    "class DQN(nn.Module):\n",
    "\n",
    "    def __init__(self, c, outputs):\n",
    "        super(DQN, self).__init__()\n",
    "        self.conv1 = nn.Conv2d(c, 32, kernel_size=8, stride=4)\n",
    "        self.bn1 = nn.BatchNorm2d(32)\n",
    "        self.conv2 = nn.Conv2d(32, 64, kernel_size=4, stride=2)\n",
    "        self.bn2 = nn.BatchNorm2d(64)\n",
    "        self.conv3 = nn.Conv2d(64, 64, kernel_size=3, stride=1)\n",
    "        self.bn3 = nn.BatchNorm2d(64)\n",
    "        \n",
    "        self.hidden = nn.Linear(3136, 512, bias=True)\n",
    "        self.head = nn.Linear(512, outputs)\n",
    "\n",
    "    # Called with either one element to determine next action, or a batch\n",
    "    # during optimization. Returns tensor([[left0exp,right0exp]...]).\n",
    "    def forward(self, x):\n",
    "        x = F.relu(self.bn1(self.conv1(x)))\n",
    "        x = F.relu(self.bn2(self.conv2(x)))\n",
    "        x = F.relu(self.bn3(self.conv3(x)))\n",
    "        x = x.view(x.size(0), -1)\n",
    "        x = F.relu(self.hidden(x))\n",
    "        return self.head(x)"
   ]
  },
  {
   "cell_type": "code",
   "execution_count": 4,
   "metadata": {},
   "outputs": [],
   "source": [
    "env = gym.make('CartPole-v0').unwrapped"
   ]
  },
  {
   "cell_type": "code",
   "execution_count": 5,
   "metadata": {},
   "outputs": [],
   "source": [
    "BATCH_SIZE = 32\n",
    "GAMMA = 0.99\n",
    "EPS_START = 1\n",
    "EPS_END = 0.1\n",
    "EPS_DECAY = 1000000\n",
    "TARGET_UPDATE = 10000\n",
    "MEMORY_SIZE = 10000\n",
    "HISTORY_LENGTH = 4\n",
    "SKIP_FRAMES = 4\n",
    "CHECKPOINT_UPDATE = 2500\n",
    "CHART_UPDATE = 100\n",
    "\n",
    "# Get number of actions from gym action space\n",
    "n_actions = env.action_space.n\n",
    "\n",
    "policy_net = DQN(HISTORY_LENGTH, n_actions).to(device)\n",
    "target_net = DQN(HISTORY_LENGTH, n_actions).to(device)\n",
    "\n",
    "optimizer = optim.RMSprop(policy_net.parameters(), lr=0.00025, eps=0.01, momentum=0.95)\n",
    "\n",
    "gc.collect()\n",
    "torch.cuda.empty_cache()\n",
    "\n",
    "memory = utils.ReplayMemory(MEMORY_SIZE)\n",
    "\n",
    "steps_done = 0\n",
    "i_episode = 0\n",
    "durations = []\n",
    "\n",
    "frames = deque([], maxlen=HISTORY_LENGTH)"
   ]
  },
  {
   "cell_type": "code",
   "execution_count": 6,
   "metadata": {},
   "outputs": [],
   "source": [
    "checkpoint_name = \"\"\n",
    "\n",
    "if checkpoint_name:\n",
    "    extra = utils.load_checkpoint(policy_net, optimizer, checkpoint_name)\n",
    "    memory = extra[\"memory\"]\n",
    "    steps_done = extra[\"steps_done\"]\n",
    "    i_episode = extra[\"i_episode\"]\n",
    "    durations = extra[\"durations\"]"
   ]
  },
  {
   "cell_type": "code",
   "execution_count": 7,
   "metadata": {},
   "outputs": [
    {
     "data": {
      "text/plain": [
       "DQN(\n",
       "  (conv1): Conv2d(4, 32, kernel_size=(8, 8), stride=(4, 4))\n",
       "  (bn1): BatchNorm2d(32, eps=1e-05, momentum=0.1, affine=True, track_running_stats=True)\n",
       "  (conv2): Conv2d(32, 64, kernel_size=(4, 4), stride=(2, 2))\n",
       "  (bn2): BatchNorm2d(64, eps=1e-05, momentum=0.1, affine=True, track_running_stats=True)\n",
       "  (conv3): Conv2d(64, 64, kernel_size=(3, 3), stride=(1, 1))\n",
       "  (bn3): BatchNorm2d(64, eps=1e-05, momentum=0.1, affine=True, track_running_stats=True)\n",
       "  (hidden): Linear(in_features=3136, out_features=512, bias=True)\n",
       "  (head): Linear(in_features=512, out_features=2, bias=True)\n",
       ")"
      ]
     },
     "execution_count": 7,
     "metadata": {},
     "output_type": "execute_result"
    }
   ],
   "source": [
    "policy_net = policy_net.to(device)\n",
    "target_net = target_net.to(device)\n",
    "\n",
    "target_net.load_state_dict(policy_net.state_dict())\n",
    "target_net.eval()"
   ]
  },
  {
   "cell_type": "code",
   "execution_count": null,
   "metadata": {},
   "outputs": [
    {
     "data": {
      "image/png": "[encoded data removed]",
      "text/plain": [
       "<Figure size 432x288 with 1 Axes>"
      ]
     },
     "metadata": {},
     "output_type": "display_data"
    }
   ],
   "source": [
    "num_episodes = 1000000\n",
    "name = \"deepminds_dqn\"\n",
    "\n",
    "for _ in range(num_episodes):\n",
    "    # Initialize the environment and state\n",
    "    env.reset()\n",
    "    \n",
    "    for _ in range(SKIP_FRAMES):\n",
    "        frames.append(utils.get_screen(env, device))\n",
    "    state = torch.cat(tuple(frames), 1)\n",
    "        \n",
    "    for t in count():\n",
    "        # Select and perform an action\n",
    "        action = utils.epsilon_greedy(state, policy_net, steps_done, n_actions, \\\n",
    "                                      device, EPS_START, EPS_END, EPS_DECAY)\n",
    "        steps_done += 1\n",
    "        \n",
    "        # Observe new state\n",
    "        reward = 0\n",
    "        for _ in range(SKIP_FRAMES):\n",
    "            _, p_reward, done, _ = env.step(action.item())\n",
    "            frames.append(utils.get_screen(env, device))\n",
    "            reward += p_reward\n",
    "            if done:\n",
    "                break\n",
    "        reward = torch.tensor([reward], device=device)\n",
    "\n",
    "        if not done:\n",
    "            next_state = torch.cat(tuple(frames), 1)\n",
    "        else:\n",
    "            next_state = None\n",
    "\n",
    "        # Store the transition in memory\n",
    "        memory.push(state, action, next_state, reward)\n",
    "\n",
    "        # Move to the next state\n",
    "        state = next_state\n",
    "\n",
    "        # Perform one step of the optimization (on the target network)\n",
    "        utils.optimize_model(policy_net, target_net, optimizer, memory, device, BATCH_SIZE, GAMMA)\n",
    "        if done:\n",
    "            durations.append(t + 1)\n",
    "            #utils.plot_performance(durations)\n",
    "            break\n",
    "            \n",
    "    i_episode += 1\n",
    "    \n",
    "    if i_episode % CHART_UPDATE == 0:\n",
    "        utils.plot_performance(durations)\n",
    "    \n",
    "    if i_episode % CHECKPOINT_UPDATE == 0:\n",
    "        utils.save_checkpoint(policy_net, optimizer, name+str(i_episode), extra={\n",
    "            \"i_episode\": i_episode,\n",
    "            \"steps_done\": steps_done,\n",
    "            \"durations\": durations,\n",
    "            \"memory\": memory\n",
    "        })\n",
    "        if i_episode > CHECKPOINT_UPDATE*2:\n",
    "            utils.delete_checkpoint(name+str(i_episode-(CHECKPOINT_UPDATE*2)))\n",
    "    \n",
    "    # Update the target network, copying all weights and biases in DQN\n",
    "    if i_episode % TARGET_UPDATE == 0:\n",
    "        target_net.load_state_dict(policy_net.state_dict())\n",
    "\n",
    "print('Complete')\n",
    "env.render()\n",
    "env.close()\n",
    "plt.ioff()\n",
    "plt.show()"
   ]
  },
  {
   "cell_type": "code",
   "execution_count": null,
   "metadata": {},
   "outputs": [],
   "source": [
    "env.close()"
   ]
  },
  {
   "cell_type": "code",
   "execution_count": null,
   "metadata": {},
   "outputs": [],
   "source": []
  }
 ],
 "metadata": {
  "kernelspec": {
   "display_name": "Python 3",
   "language": "python",
   "name": "python3"
  },
  "language_info": {
   "codemirror_mode": {
    "name": "ipython",
    "version": 3
   },
   "file_extension": ".py",
   "mimetype": "text/x-python",
   "name": "python",
   "nbconvert_exporter": "python",
   "pygments_lexer": "ipython3",
   "version": "3.6.9"
  }
 },
 "nbformat": 4,
 "nbformat_minor": 4
}
